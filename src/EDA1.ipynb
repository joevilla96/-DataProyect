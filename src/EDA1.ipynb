{
 "cells": [
  {
   "cell_type": "code",
   "execution_count": 1,
   "metadata": {},
   "outputs": [],
   "source": [
    "import pandas as pd\n",
    "import numpy as np\n",
    "import matplotlib.pyplot as plt\n",
    "import seaborn as sns\n",
    "import pandas_profiling as pp\n",
    "import geopandas as gpd "
   ]
  },
  {
   "cell_type": "code",
   "execution_count": 2,
   "metadata": {},
   "outputs": [],
   "source": [
    "#Como trabajamos con Visual, esta línea imprime los gráficos\n",
    "%matplotlib inline"
   ]
  },
  {
   "cell_type": "code",
   "execution_count": 3,
   "metadata": {},
   "outputs": [
    {
     "data": {
      "text/plain": [
       "Index(['company', 'totalyearlycompensation', 'yearsofexperience',\n",
       "       'yearsatcompany', 'basesalary', 'stockgrantvalue', 'bonus', 'gender',\n",
       "       'Race', 'Education'],\n",
       "      dtype='object')"
      ]
     },
     "execution_count": 3,
     "metadata": {},
     "output_type": "execute_result"
    }
   ],
   "source": [
    "df = pd.read_csv(\"../data/Data_limpia.csv\")\n",
    "df.columns"
   ]
  },
  {
   "cell_type": "markdown",
   "metadata": {},
   "source": [
    "Análisis exploratorio de datos (EDA)"
   ]
  },
  {
   "cell_type": "markdown",
   "metadata": {},
   "source": [
    "En el presente proyecto es de carácter exploratorio y analizará el dataset de los salarios de profesionales en Data Science el cual contiene más 62.000 registros salariales de las principales empresas a nivel mundial.\n",
    "\n",
    "En los últimos años se ha desarrollado un creciente interés por las carreras que cubren la necesidad de la sociedad de comprender y analizar grandes cantidades de datos que se generan. Por ello, presentamos en este EDA los resultados de una investigación, de carácter exploratorio, basada en la aplicación de un formulario, vía Internet, a profesionales de Data Science de diferentes empresas, con el objetivo de conocer qué variables influyen en el salario que perciben los profesionales de Data Science."
   ]
  },
  {
   "cell_type": "markdown",
   "metadata": {},
   "source": [
    "Preguntas de exploración\n",
    "1. Valores que influyen en los salarios de los profesionales\n",
    "* ¿Cuánto es el salario anual promedio de acuerdo al género?\n",
    "* ¿Cuánto es el salario anual promedio de acuerdo al nivel de educación?\n",
    "* ¿Cuánto es el salario anual promedio de acuerdo a la empresa donde se labora?\n",
    "\n",
    "2. Valores que influyen en la participación de estos profesionales\n",
    "* ¿Cuál es el % de profesionales segun su raza?\n",
    "* ¿Cuál es la participacion de profesionales segun su genero?\n",
    "* ¿Cuál es la cantidad de profesionales segun su nivel de educación profesional?\n"
   ]
  },
  {
   "cell_type": "markdown",
   "metadata": {},
   "source": [
    "1. Valores que influyen en los salarios"
   ]
  },
  {
   "cell_type": "markdown",
   "metadata": {},
   "source": [
    "1.1 ¿Cuánto es el salario anual promedio de acuerdo al género?"
   ]
  },
  {
   "cell_type": "code",
   "execution_count": 4,
   "metadata": {},
   "outputs": [
    {
     "data": {
      "text/html": [
       "<div>\n",
       "<style scoped>\n",
       "    .dataframe tbody tr th:only-of-type {\n",
       "        vertical-align: middle;\n",
       "    }\n",
       "\n",
       "    .dataframe tbody tr th {\n",
       "        vertical-align: top;\n",
       "    }\n",
       "\n",
       "    .dataframe thead th {\n",
       "        text-align: right;\n",
       "    }\n",
       "</style>\n",
       "<table border=\"1\" class=\"dataframe\">\n",
       "  <thead>\n",
       "    <tr style=\"text-align: right;\">\n",
       "      <th></th>\n",
       "      <th>totalyearlycompensation</th>\n",
       "      <th>basesalary</th>\n",
       "    </tr>\n",
       "    <tr>\n",
       "      <th>gender</th>\n",
       "      <th></th>\n",
       "      <th></th>\n",
       "    </tr>\n",
       "  </thead>\n",
       "  <tbody>\n",
       "    <tr>\n",
       "      <th>Female</th>\n",
       "      <td>177846.363345</td>\n",
       "      <td>131656.341113</td>\n",
       "    </tr>\n",
       "    <tr>\n",
       "      <th>Male</th>\n",
       "      <td>181598.575183</td>\n",
       "      <td>131190.914296</td>\n",
       "    </tr>\n",
       "    <tr>\n",
       "      <th>No especificado</th>\n",
       "      <td>191181.685414</td>\n",
       "      <td>137063.684421</td>\n",
       "    </tr>\n",
       "    <tr>\n",
       "      <th>Other</th>\n",
       "      <td>187568.807339</td>\n",
       "      <td>135576.436548</td>\n",
       "    </tr>\n",
       "  </tbody>\n",
       "</table>\n",
       "</div>"
      ],
      "text/plain": [
       "                 totalyearlycompensation     basesalary\n",
       "gender                                                 \n",
       "Female                     177846.363345  131656.341113\n",
       "Male                       181598.575183  131190.914296\n",
       "No especificado            191181.685414  137063.684421\n",
       "Other                      187568.807339  135576.436548"
      ]
     },
     "execution_count": 4,
     "metadata": {},
     "output_type": "execute_result"
    }
   ],
   "source": [
    "#Según el género\n",
    "df_gender = df.groupby('gender').agg({\"totalyearlycompensation\":\"mean\", \"basesalary\":\"mean\"})\n",
    "df_gender"
   ]
  },
  {
   "cell_type": "code",
   "execution_count": 5,
   "metadata": {},
   "outputs": [
    {
     "data": {
      "image/png": "[encoded data removed]",
      "text/plain": [
       "<Figure size 432x288 with 1 Axes>"
      ]
     },
     "metadata": {
      "needs_background": "light"
     },
     "output_type": "display_data"
    }
   ],
   "source": [
    "df_gender.loc[['Male','Female']].plot.barh().grid()"
   ]
  },
  {
   "cell_type": "markdown",
   "metadata": {},
   "source": [
    "Se observa, gracias al gráfico, cómo en este rubro no existe un sesgo que afecte los promedios del salario base ni la suma anual de los profesionales masculinos y femeninos"
   ]
  },
  {
   "cell_type": "markdown",
   "metadata": {},
   "source": [
    "1.2 ¿Cuánto es el salario anual promedio de acuerdo al nivel de educación?"
   ]
  },
  {
   "cell_type": "code",
   "execution_count": 6,
   "metadata": {},
   "outputs": [
    {
     "data": {
      "text/html": [
       "<div>\n",
       "<style scoped>\n",
       "    .dataframe tbody tr th:only-of-type {\n",
       "        vertical-align: middle;\n",
       "    }\n",
       "\n",
       "    .dataframe tbody tr th {\n",
       "        vertical-align: top;\n",
       "    }\n",
       "\n",
       "    .dataframe thead th {\n",
       "        text-align: right;\n",
       "    }\n",
       "</style>\n",
       "<table border=\"1\" class=\"dataframe\">\n",
       "  <thead>\n",
       "    <tr style=\"text-align: right;\">\n",
       "      <th></th>\n",
       "      <th>totalyearlycompensation</th>\n",
       "      <th>basesalary</th>\n",
       "    </tr>\n",
       "    <tr>\n",
       "      <th>Education</th>\n",
       "      <th></th>\n",
       "      <th></th>\n",
       "    </tr>\n",
       "  </thead>\n",
       "  <tbody>\n",
       "    <tr>\n",
       "      <th>Bachelor's Degree</th>\n",
       "      <td>160026.257191</td>\n",
       "      <td>119645.759881</td>\n",
       "    </tr>\n",
       "    <tr>\n",
       "      <th>Highschool</th>\n",
       "      <td>162334.586466</td>\n",
       "      <td>119766.917293</td>\n",
       "    </tr>\n",
       "    <tr>\n",
       "      <th>Master's Degree</th>\n",
       "      <td>189512.099260</td>\n",
       "      <td>136922.216961</td>\n",
       "    </tr>\n",
       "    <tr>\n",
       "      <th>No especificado</th>\n",
       "      <td>189396.681664</td>\n",
       "      <td>135664.564739</td>\n",
       "    </tr>\n",
       "    <tr>\n",
       "      <th>PhD</th>\n",
       "      <td>229413.765823</td>\n",
       "      <td>156674.841772</td>\n",
       "    </tr>\n",
       "    <tr>\n",
       "      <th>Some College</th>\n",
       "      <td>174010.676157</td>\n",
       "      <td>129825.622776</td>\n",
       "    </tr>\n",
       "  </tbody>\n",
       "</table>\n",
       "</div>"
      ],
      "text/plain": [
       "                   totalyearlycompensation     basesalary\n",
       "Education                                                \n",
       "Bachelor's Degree            160026.257191  119645.759881\n",
       "Highschool                   162334.586466  119766.917293\n",
       "Master's Degree              189512.099260  136922.216961\n",
       "No especificado              189396.681664  135664.564739\n",
       "PhD                          229413.765823  156674.841772\n",
       "Some College                 174010.676157  129825.622776"
      ]
     },
     "execution_count": 6,
     "metadata": {},
     "output_type": "execute_result"
    }
   ],
   "source": [
    "#Según el nivel de educación\n",
    "df_education = df.groupby('Education').agg({\"totalyearlycompensation\":\"mean\", \"basesalary\":\"mean\"})\n",
    "df_education"
   ]
  },
  {
   "cell_type": "code",
   "execution_count": 7,
   "metadata": {},
   "outputs": [
    {
     "data": {
      "image/png": "[encoded data removed]",
      "text/plain": [
       "<Figure size 432x288 with 1 Axes>"
      ]
     },
     "metadata": {
      "needs_background": "light"
     },
     "output_type": "display_data"
    }
   ],
   "source": [
    "df_education.iloc[[0,1,2,4,5]].plot.bar().grid()"
   ]
  },
  {
   "cell_type": "markdown",
   "metadata": {},
   "source": [
    "1.3 ¿Cuánto es el salario anual promedio de acuerdo a la empresa donde se labora?"
   ]
  },
  {
   "cell_type": "code",
   "execution_count": 8,
   "metadata": {},
   "outputs": [],
   "source": [
    "#Según la empresa\n",
    "df_empresa = df.groupby('company').agg({\"totalyearlycompensation\":\"mean\", \"basesalary\":\"mean\"})\n",
    "top_15_empresa = df_empresa.sort_values(by=['totalyearlycompensation'],ascending = False).head(15)"
   ]
  },
  {
   "cell_type": "code",
   "execution_count": 9,
   "metadata": {},
   "outputs": [
    {
     "data": {
      "text/html": [
       "<div>\n",
       "<style scoped>\n",
       "    .dataframe tbody tr th:only-of-type {\n",
       "        vertical-align: middle;\n",
       "    }\n",
       "\n",
       "    .dataframe tbody tr th {\n",
       "        vertical-align: top;\n",
       "    }\n",
       "\n",
       "    .dataframe thead th {\n",
       "        text-align: right;\n",
       "    }\n",
       "</style>\n",
       "<table border=\"1\" class=\"dataframe\">\n",
       "  <thead>\n",
       "    <tr style=\"text-align: right;\">\n",
       "      <th></th>\n",
       "      <th>totalyearlycompensation</th>\n",
       "      <th>basesalary</th>\n",
       "    </tr>\n",
       "    <tr>\n",
       "      <th>company</th>\n",
       "      <th></th>\n",
       "      <th></th>\n",
       "    </tr>\n",
       "  </thead>\n",
       "  <tbody>\n",
       "    <tr>\n",
       "      <th>AURORA</th>\n",
       "      <td>298583.333333</td>\n",
       "      <td>187333.333333</td>\n",
       "    </tr>\n",
       "    <tr>\n",
       "      <th>APPLE INC.</th>\n",
       "      <td>295625.000000</td>\n",
       "      <td>172250.000000</td>\n",
       "    </tr>\n",
       "    <tr>\n",
       "      <th>CHIME</th>\n",
       "      <td>293823.529412</td>\n",
       "      <td>179470.588235</td>\n",
       "    </tr>\n",
       "    <tr>\n",
       "      <th>CLOUDKITCHENS</th>\n",
       "      <td>292500.000000</td>\n",
       "      <td>170000.000000</td>\n",
       "    </tr>\n",
       "    <tr>\n",
       "      <th>NETFLIX</th>\n",
       "      <td>290851.851852</td>\n",
       "      <td>170416.569465</td>\n",
       "    </tr>\n",
       "    <tr>\n",
       "      <th>WAYMO</th>\n",
       "      <td>290155.555556</td>\n",
       "      <td>175370.828473</td>\n",
       "    </tr>\n",
       "    <tr>\n",
       "      <th>UIPATH</th>\n",
       "      <td>283733.333333</td>\n",
       "      <td>158866.666667</td>\n",
       "    </tr>\n",
       "    <tr>\n",
       "      <th>UPWORK</th>\n",
       "      <td>281000.000000</td>\n",
       "      <td>176500.000000</td>\n",
       "    </tr>\n",
       "    <tr>\n",
       "      <th>AIRBNB</th>\n",
       "      <td>278248.226950</td>\n",
       "      <td>164644.488035</td>\n",
       "    </tr>\n",
       "    <tr>\n",
       "      <th>DROPBOX</th>\n",
       "      <td>274523.560209</td>\n",
       "      <td>168666.997386</td>\n",
       "    </tr>\n",
       "    <tr>\n",
       "      <th>BOX</th>\n",
       "      <td>271000.000000</td>\n",
       "      <td>191730.909542</td>\n",
       "    </tr>\n",
       "    <tr>\n",
       "      <th>CRUISE</th>\n",
       "      <td>266307.692308</td>\n",
       "      <td>171351.748801</td>\n",
       "    </tr>\n",
       "    <tr>\n",
       "      <th>LYFT</th>\n",
       "      <td>266000.000000</td>\n",
       "      <td>154340.662756</td>\n",
       "    </tr>\n",
       "    <tr>\n",
       "      <th>PURE STORAGE</th>\n",
       "      <td>264156.250000</td>\n",
       "      <td>167875.000000</td>\n",
       "    </tr>\n",
       "    <tr>\n",
       "      <th>SNOWFLAKE</th>\n",
       "      <td>263500.000000</td>\n",
       "      <td>161307.273441</td>\n",
       "    </tr>\n",
       "  </tbody>\n",
       "</table>\n",
       "</div>"
      ],
      "text/plain": [
       "               totalyearlycompensation     basesalary\n",
       "company                                              \n",
       "AURORA                   298583.333333  187333.333333\n",
       "APPLE INC.               295625.000000  172250.000000\n",
       "CHIME                    293823.529412  179470.588235\n",
       "CLOUDKITCHENS            292500.000000  170000.000000\n",
       "NETFLIX                  290851.851852  170416.569465\n",
       "WAYMO                    290155.555556  175370.828473\n",
       "UIPATH                   283733.333333  158866.666667\n",
       "UPWORK                   281000.000000  176500.000000\n",
       "AIRBNB                   278248.226950  164644.488035\n",
       "DROPBOX                  274523.560209  168666.997386\n",
       "BOX                      271000.000000  191730.909542\n",
       "CRUISE                   266307.692308  171351.748801\n",
       "LYFT                     266000.000000  154340.662756\n",
       "PURE STORAGE             264156.250000  167875.000000\n",
       "SNOWFLAKE                263500.000000  161307.273441"
      ]
     },
     "execution_count": 9,
     "metadata": {},
     "output_type": "execute_result"
    }
   ],
   "source": [
    "top_15_empresa"
   ]
  },
  {
   "cell_type": "code",
   "execution_count": 10,
   "metadata": {},
   "outputs": [
    {
     "data": {
      "image/png": "[encoded data removed]",
      "text/plain": [
       "<Figure size 1080x288 with 1 Axes>"
      ]
     },
     "metadata": {
      "needs_background": "light"
     },
     "output_type": "display_data"
    }
   ],
   "source": [
    "#Top 15 de empresas que más pagan en este rubro\n",
    "top_15_empresa.plot.line(figsize = (15, 4), title = 'Top de empresas que más salario anual ofrecen').grid()"
   ]
  },
  {
   "cell_type": "markdown",
   "metadata": {},
   "source": [
    "Visualizamos que las empresas más conocidas no lideran la cabeza en cuanto a oferta salarial se refiere"
   ]
  },
  {
   "cell_type": "markdown",
   "metadata": {},
   "source": [
    "2. Valores que influyen en el porcentaje de participación de estos profesionales"
   ]
  },
  {
   "cell_type": "markdown",
   "metadata": {},
   "source": [
    "2.1 ¿Qué % de estos profesionales son de la raza blanca, negra y mestiza?"
   ]
  },
  {
   "cell_type": "code",
   "execution_count": 11,
   "metadata": {},
   "outputs": [
    {
     "data": {
      "text/html": [
       "<div>\n",
       "<style scoped>\n",
       "    .dataframe tbody tr th:only-of-type {\n",
       "        vertical-align: middle;\n",
       "    }\n",
       "\n",
       "    .dataframe tbody tr th {\n",
       "        vertical-align: top;\n",
       "    }\n",
       "\n",
       "    .dataframe thead th {\n",
       "        text-align: right;\n",
       "    }\n",
       "</style>\n",
       "<table border=\"1\" class=\"dataframe\">\n",
       "  <thead>\n",
       "    <tr style=\"text-align: right;\">\n",
       "      <th></th>\n",
       "      <th>Raza</th>\n",
       "      <th>Cantidad</th>\n",
       "    </tr>\n",
       "  </thead>\n",
       "  <tbody>\n",
       "    <tr>\n",
       "      <th>1</th>\n",
       "      <td>Asian</td>\n",
       "      <td>9975</td>\n",
       "    </tr>\n",
       "    <tr>\n",
       "      <th>2</th>\n",
       "      <td>White</td>\n",
       "      <td>6701</td>\n",
       "    </tr>\n",
       "    <tr>\n",
       "      <th>3</th>\n",
       "      <td>Hispanic</td>\n",
       "      <td>982</td>\n",
       "    </tr>\n",
       "    <tr>\n",
       "      <th>4</th>\n",
       "      <td>Two Or More</td>\n",
       "      <td>691</td>\n",
       "    </tr>\n",
       "    <tr>\n",
       "      <th>5</th>\n",
       "      <td>Black</td>\n",
       "      <td>618</td>\n",
       "    </tr>\n",
       "  </tbody>\n",
       "</table>\n",
       "</div>"
      ],
      "text/plain": [
       "          Raza  Cantidad\n",
       "1        Asian      9975\n",
       "2        White      6701\n",
       "3     Hispanic       982\n",
       "4  Two Or More       691\n",
       "5        Black       618"
      ]
     },
     "execution_count": 11,
     "metadata": {},
     "output_type": "execute_result"
    }
   ],
   "source": [
    "df_part_race = df['Race'].value_counts().reset_index().rename(columns={'index':'Raza','Race':'Cantidad'}).drop(0)\n",
    "df_part_race"
   ]
  },
  {
   "cell_type": "code",
   "execution_count": 12,
   "metadata": {},
   "outputs": [
    {
     "data": {
      "image/png": "[encoded data removed]",
      "text/plain": [
       "<Figure size 432x288 with 1 Axes>"
      ]
     },
     "metadata": {},
     "output_type": "display_data"
    }
   ],
   "source": [
    "Race = ['Black','Two Or More','Hispanic','White','Asian']\n",
    "value = [618,691,982,6701, 9975] \n",
    "plt.pie(x=value, labels=Race, autopct='%.2f%%')\n",
    "plt.show()"
   ]
  },
  {
   "cell_type": "markdown",
   "metadata": {},
   "source": [
    "El grafico muestra el porcentaje de participación de los profesionales en Data Science según su raza, observamos que las personas de raza asiática tienen una mayor participación como profesionales de Data Science con 52.59% seguido de la raza blanca con 35.33% y las demás razas con porcentajes de participación pequeños. Suponiendo que no existe sesgo racial al momento de contratar, estos datos significan que las personas de las razas asiática y blanca son las que tienen más interés en estudiar Data Science."
   ]
  },
  {
   "cell_type": "markdown",
   "metadata": {},
   "source": [
    "2.2 ¿Cuál es la cantidad de profesionales segun su genero?"
   ]
  },
  {
   "cell_type": "code",
   "execution_count": 13,
   "metadata": {},
   "outputs": [
    {
     "data": {
      "text/html": [
       "<div>\n",
       "<style scoped>\n",
       "    .dataframe tbody tr th:only-of-type {\n",
       "        vertical-align: middle;\n",
       "    }\n",
       "\n",
       "    .dataframe tbody tr th {\n",
       "        vertical-align: top;\n",
       "    }\n",
       "\n",
       "    .dataframe thead th {\n",
       "        text-align: right;\n",
       "    }\n",
       "</style>\n",
       "<table border=\"1\" class=\"dataframe\">\n",
       "  <thead>\n",
       "    <tr style=\"text-align: right;\">\n",
       "      <th></th>\n",
       "      <th>Genero</th>\n",
       "      <th>Cantidad</th>\n",
       "    </tr>\n",
       "  </thead>\n",
       "  <tbody>\n",
       "    <tr>\n",
       "      <th>0</th>\n",
       "      <td>Male</td>\n",
       "      <td>29754</td>\n",
       "    </tr>\n",
       "    <tr>\n",
       "      <th>2</th>\n",
       "      <td>Female</td>\n",
       "      <td>6242</td>\n",
       "    </tr>\n",
       "    <tr>\n",
       "      <th>3</th>\n",
       "      <td>Other</td>\n",
       "      <td>327</td>\n",
       "    </tr>\n",
       "  </tbody>\n",
       "</table>\n",
       "</div>"
      ],
      "text/plain": [
       "   Genero  Cantidad\n",
       "0    Male     29754\n",
       "2  Female      6242\n",
       "3   Other       327"
      ]
     },
     "execution_count": 13,
     "metadata": {},
     "output_type": "execute_result"
    }
   ],
   "source": [
    "df_part_gender = df['gender'].value_counts().reset_index().rename(columns={'index':'Genero','gender':'Cantidad'}).drop(1)\n",
    "df_part_gender"
   ]
  },
  {
   "cell_type": "code",
   "execution_count": 14,
   "metadata": {},
   "outputs": [
    {
     "data": {
      "image/png": "[encoded data removed]",
      "text/plain": [
       "<Figure size 1008x504 with 1 Axes>"
      ]
     },
     "metadata": {
      "needs_background": "light"
     },
     "output_type": "display_data"
    }
   ],
   "source": [
    "plt.figure(figsize=(14,7))\n",
    "plt.xticks(rotation=90)\n",
    "plt.title(\"Participacion segun sexo\")\n",
    "sns.barplot(x='Cantidad',y='Genero', data=df_part_gender)\n",
    "plt.show()"
   ]
  },
  {
   "cell_type": "markdown",
   "metadata": {},
   "source": [
    "El grafico muestra la cantidad de participación de los profesionales en Data Science según su género, observamos que los hombres tienen una mayor participación como profesionales de Data Science con 29754 profesionales. Suponiendo que no existe sesgo de genero al momento de contratar, estos datos significan que los hombres tienen más interés en estudiar Data Science."
   ]
  },
  {
   "cell_type": "markdown",
   "metadata": {},
   "source": [
    "2.3 ¿Cuál es la cantidad de profesionales segun su nivel de educación profesional?"
   ]
  },
  {
   "cell_type": "code",
   "execution_count": 15,
   "metadata": {},
   "outputs": [
    {
     "data": {
      "text/html": [
       "<div>\n",
       "<style scoped>\n",
       "    .dataframe tbody tr th:only-of-type {\n",
       "        vertical-align: middle;\n",
       "    }\n",
       "\n",
       "    .dataframe tbody tr th {\n",
       "        vertical-align: top;\n",
       "    }\n",
       "\n",
       "    .dataframe thead th {\n",
       "        text-align: right;\n",
       "    }\n",
       "</style>\n",
       "<table border=\"1\" class=\"dataframe\">\n",
       "  <thead>\n",
       "    <tr style=\"text-align: right;\">\n",
       "      <th></th>\n",
       "      <th>Título</th>\n",
       "      <th>Cantidad</th>\n",
       "    </tr>\n",
       "  </thead>\n",
       "  <tbody>\n",
       "    <tr>\n",
       "      <th>1</th>\n",
       "      <td>Master's Degree</td>\n",
       "      <td>12976</td>\n",
       "    </tr>\n",
       "    <tr>\n",
       "      <th>2</th>\n",
       "      <td>Bachelor's Degree</td>\n",
       "      <td>10778</td>\n",
       "    </tr>\n",
       "    <tr>\n",
       "      <th>3</th>\n",
       "      <td>PhD</td>\n",
       "      <td>1264</td>\n",
       "    </tr>\n",
       "    <tr>\n",
       "      <th>4</th>\n",
       "      <td>Some College</td>\n",
       "      <td>281</td>\n",
       "    </tr>\n",
       "    <tr>\n",
       "      <th>5</th>\n",
       "      <td>Highschool</td>\n",
       "      <td>266</td>\n",
       "    </tr>\n",
       "  </tbody>\n",
       "</table>\n",
       "</div>"
      ],
      "text/plain": [
       "              Título  Cantidad\n",
       "1    Master's Degree     12976\n",
       "2  Bachelor's Degree     10778\n",
       "3                PhD      1264\n",
       "4       Some College       281\n",
       "5         Highschool       266"
      ]
     },
     "execution_count": 15,
     "metadata": {},
     "output_type": "execute_result"
    }
   ],
   "source": [
    "part_educacion = df[\"Education\"].value_counts().reset_index().rename(columns={'index':'Título','Education':'Cantidad'}).drop(0)\n",
    "part_educacion"
   ]
  },
  {
   "cell_type": "code",
   "execution_count": 16,
   "metadata": {},
   "outputs": [
    {
     "data": {
      "image/png": "[encoded data removed]",
      "text/plain": [
       "<Figure size 1008x504 with 1 Axes>"
      ]
     },
     "metadata": {
      "needs_background": "light"
     },
     "output_type": "display_data"
    }
   ],
   "source": [
    "plt.figure(figsize=(14,7))\n",
    "plt.xticks(rotation=90)\n",
    "plt.title(\"Participacion segun Educación\")\n",
    "sns.barplot(x='Título',y='Cantidad',data=part_educacion)\n",
    "plt.show()"
   ]
  },
  {
   "cell_type": "markdown",
   "metadata": {},
   "source": [
    "El grafico muestra la escala de participación de los profesionales en Data Science según su nivel de educación, observamos que las personas con título de maestría tienen una mayor participación como profesionales de Data Science con 12976 profesionales seguido de personas con el título de bachiller y los demás títulos con cantidades de participación pequeños. Esto significa que el título profesional es determinante a la hora de contratar a una persona en el área de Data Science.\n",
    "\n",
    "Y relacionando al gráfico que obtuvimos en la primera parte del análisis (Salario promedio por nivel de educación) deducimos que por la poca cantidad de profesionales que hay con este nivel de educación (PhD) las empresas le otorgan un salario más elevado a comparación profesionales con menor nivel y que son más abundantes en el mercado laboral."
   ]
  },
  {
   "cell_type": "markdown",
   "metadata": {},
   "source": [
    "Grafico de Dispersion"
   ]
  },
  {
   "cell_type": "code",
   "execution_count": 17,
   "metadata": {},
   "outputs": [],
   "source": [
    "#Primero declara una variable var que contenga los años de experiencia\n",
    "var = 'yearsatcompany'"
   ]
  },
  {
   "cell_type": "code",
   "execution_count": 18,
   "metadata": {},
   "outputs": [
    {
     "data": {
      "text/html": [
       "<div>\n",
       "<style scoped>\n",
       "    .dataframe tbody tr th:only-of-type {\n",
       "        vertical-align: middle;\n",
       "    }\n",
       "\n",
       "    .dataframe tbody tr th {\n",
       "        vertical-align: top;\n",
       "    }\n",
       "\n",
       "    .dataframe thead th {\n",
       "        text-align: right;\n",
       "    }\n",
       "</style>\n",
       "<table border=\"1\" class=\"dataframe\">\n",
       "  <thead>\n",
       "    <tr style=\"text-align: right;\">\n",
       "      <th></th>\n",
       "      <th>totalyearlycompensation</th>\n",
       "      <th>yearsatcompany</th>\n",
       "    </tr>\n",
       "  </thead>\n",
       "  <tbody>\n",
       "    <tr>\n",
       "      <th>0</th>\n",
       "      <td>127000</td>\n",
       "      <td>1.5</td>\n",
       "    </tr>\n",
       "    <tr>\n",
       "      <th>1</th>\n",
       "      <td>100000</td>\n",
       "      <td>3.0</td>\n",
       "    </tr>\n",
       "    <tr>\n",
       "      <th>2</th>\n",
       "      <td>310000</td>\n",
       "      <td>0.0</td>\n",
       "    </tr>\n",
       "    <tr>\n",
       "      <th>3</th>\n",
       "      <td>157000</td>\n",
       "      <td>3.0</td>\n",
       "    </tr>\n",
       "    <tr>\n",
       "      <th>4</th>\n",
       "      <td>208000</td>\n",
       "      <td>8.5</td>\n",
       "    </tr>\n",
       "  </tbody>\n",
       "</table>\n",
       "</div>"
      ],
      "text/plain": [
       "   totalyearlycompensation  yearsatcompany\n",
       "0                   127000             1.5\n",
       "1                   100000             3.0\n",
       "2                   310000             0.0\n",
       "3                   157000             3.0\n",
       "4                   208000             8.5"
      ]
     },
     "execution_count": 18,
     "metadata": {},
     "output_type": "execute_result"
    }
   ],
   "source": [
    "data = pd.concat([df['totalyearlycompensation'],df[var]], axis=1)\n",
    "data.head()"
   ]
  },
  {
   "cell_type": "code",
   "execution_count": 19,
   "metadata": {},
   "outputs": [
    {
     "data": {
      "image/png": "[encoded data removed]",
      "text/plain": [
       "<Figure size 432x288 with 1 Axes>"
      ]
     },
     "metadata": {
      "needs_background": "light"
     },
     "output_type": "display_data"
    }
   ],
   "source": [
    "data.plot.scatter(x=var, y='totalyearlycompensation', ylim=(0,500000));"
   ]
  },
  {
   "cell_type": "markdown",
   "metadata": {},
   "source": [
    "El presente grafico de dispersión muestra que hay una relación entre las variables salario anual y años en la empresa, observamos que no necesariamente el que un profesional en Data Science tenga más años en la empresa en la que labora signifique va a ganar más que otros que tienen menos años en la empresa. En conclusión, el salario anual que ganan los profesionales en Data Science es indiferente a los años en laborando en la empresa."
   ]
  },
  {
   "cell_type": "markdown",
   "metadata": {},
   "source": [
    " Correlación"
   ]
  },
  {
   "cell_type": "markdown",
   "metadata": {},
   "source": [
    "Primero armamos una matriz de correlación para ver cuales son las variables más correlacionadas"
   ]
  },
  {
   "cell_type": "code",
   "execution_count": 20,
   "metadata": {},
   "outputs": [
    {
     "data": {
      "text/html": [
       "<div>\n",
       "<style scoped>\n",
       "    .dataframe tbody tr th:only-of-type {\n",
       "        vertical-align: middle;\n",
       "    }\n",
       "\n",
       "    .dataframe tbody tr th {\n",
       "        vertical-align: top;\n",
       "    }\n",
       "\n",
       "    .dataframe thead th {\n",
       "        text-align: right;\n",
       "    }\n",
       "</style>\n",
       "<table border=\"1\" class=\"dataframe\">\n",
       "  <thead>\n",
       "    <tr style=\"text-align: right;\">\n",
       "      <th></th>\n",
       "      <th>totalyearlycompensation</th>\n",
       "      <th>yearsofexperience</th>\n",
       "      <th>yearsatcompany</th>\n",
       "      <th>basesalary</th>\n",
       "      <th>stockgrantvalue</th>\n",
       "      <th>bonus</th>\n",
       "    </tr>\n",
       "  </thead>\n",
       "  <tbody>\n",
       "    <tr>\n",
       "      <th>totalyearlycompensation</th>\n",
       "      <td>1.000000</td>\n",
       "      <td>0.356945</td>\n",
       "      <td>0.126118</td>\n",
       "      <td>0.860798</td>\n",
       "      <td>0.781634</td>\n",
       "      <td>0.503491</td>\n",
       "    </tr>\n",
       "    <tr>\n",
       "      <th>yearsofexperience</th>\n",
       "      <td>0.356945</td>\n",
       "      <td>1.000000</td>\n",
       "      <td>0.455420</td>\n",
       "      <td>0.375725</td>\n",
       "      <td>0.205055</td>\n",
       "      <td>0.184795</td>\n",
       "    </tr>\n",
       "    <tr>\n",
       "      <th>yearsatcompany</th>\n",
       "      <td>0.126118</td>\n",
       "      <td>0.455420</td>\n",
       "      <td>1.000000</td>\n",
       "      <td>0.141784</td>\n",
       "      <td>0.056244</td>\n",
       "      <td>0.034855</td>\n",
       "    </tr>\n",
       "    <tr>\n",
       "      <th>basesalary</th>\n",
       "      <td>0.860798</td>\n",
       "      <td>0.375725</td>\n",
       "      <td>0.141784</td>\n",
       "      <td>1.000000</td>\n",
       "      <td>0.507576</td>\n",
       "      <td>0.437706</td>\n",
       "    </tr>\n",
       "    <tr>\n",
       "      <th>stockgrantvalue</th>\n",
       "      <td>0.781634</td>\n",
       "      <td>0.205055</td>\n",
       "      <td>0.056244</td>\n",
       "      <td>0.507576</td>\n",
       "      <td>1.000000</td>\n",
       "      <td>0.267721</td>\n",
       "    </tr>\n",
       "    <tr>\n",
       "      <th>bonus</th>\n",
       "      <td>0.503491</td>\n",
       "      <td>0.184795</td>\n",
       "      <td>0.034855</td>\n",
       "      <td>0.437706</td>\n",
       "      <td>0.267721</td>\n",
       "      <td>1.000000</td>\n",
       "    </tr>\n",
       "  </tbody>\n",
       "</table>\n",
       "</div>"
      ],
      "text/plain": [
       "                         totalyearlycompensation  yearsofexperience  \\\n",
       "totalyearlycompensation                 1.000000           0.356945   \n",
       "yearsofexperience                       0.356945           1.000000   \n",
       "yearsatcompany                          0.126118           0.455420   \n",
       "basesalary                              0.860798           0.375725   \n",
       "stockgrantvalue                         0.781634           0.205055   \n",
       "bonus                                   0.503491           0.184795   \n",
       "\n",
       "                         yearsatcompany  basesalary  stockgrantvalue     bonus  \n",
       "totalyearlycompensation        0.126118    0.860798         0.781634  0.503491  \n",
       "yearsofexperience              0.455420    0.375725         0.205055  0.184795  \n",
       "yearsatcompany                 1.000000    0.141784         0.056244  0.034855  \n",
       "basesalary                     0.141784    1.000000         0.507576  0.437706  \n",
       "stockgrantvalue                0.056244    0.507576         1.000000  0.267721  \n",
       "bonus                          0.034855    0.437706         0.267721  1.000000  "
      ]
     },
     "execution_count": 20,
     "metadata": {},
     "output_type": "execute_result"
    }
   ],
   "source": [
    "corrmat = df.corr()\n",
    "corrmat"
   ]
  },
  {
   "cell_type": "code",
   "execution_count": 21,
   "metadata": {},
   "outputs": [
    {
     "data": {
      "text/plain": [
       "<AxesSubplot:>"
      ]
     },
     "execution_count": 21,
     "metadata": {},
     "output_type": "execute_result"
    },
    {
     "data": {
      "image/png": "[encoded data removed]",
      "text/plain": [
       "<Figure size 864x648 with 2 Axes>"
      ]
     },
     "metadata": {
      "needs_background": "light"
     },
     "output_type": "display_data"
    }
   ],
   "source": [
    "#Luego usamos f,ax para declarar un plt.subplots\n",
    "f, ax = plt.subplots(figsize=(12,9))\n",
    "sns.heatmap(corrmat, vmax=.8, square = True)"
   ]
  },
  {
   "cell_type": "markdown",
   "metadata": {},
   "source": [
    "Se muestra la correlación entre las variables numéricas y observamos que el salario anual está muy correlacionado con el salario base y valor de concesión de acciones por lo que el salario anual dependerá del salario base y el valor de concesión de acciones. En otras palabras, la cantidad de dinero que un profesional en Data Science gane va a depender del salario base que la empresa le ofrezca y el valor de concesión de acciones que la empresa le ha concedido al profesional en Data Science."
   ]
  },
  {
   "cell_type": "markdown",
   "metadata": {},
   "source": [
    "Test de Hipótesis Estadísticas"
   ]
  },
  {
   "cell_type": "markdown",
   "metadata": {},
   "source": [
    "Test de Normalidad Shapiro-Wilk\n",
    "\n",
    "Permite determinar que tan probable que los datos sigan una distribución Normal (Gaussiana). El único supuesto necesario para aplicar este test es que las observaciones de la muestra de datos sean independientes e identicamente distribuidas (iid)."
   ]
  },
  {
   "cell_type": "markdown",
   "metadata": {},
   "source": [
    "Planteamiento de Hipotesis\n",
    "\n",
    "H0: La muestra tiene una distribucion Normal. Se rechaza si p < 0.05\n",
    "H1: La muestra NO tiene una distribucion Normal. Se rechaza si p > 0.05"
   ]
  },
  {
   "cell_type": "code",
   "execution_count": 22,
   "metadata": {},
   "outputs": [],
   "source": [
    "from scipy.stats import shapiro"
   ]
  },
  {
   "cell_type": "code",
   "execution_count": 23,
   "metadata": {},
   "outputs": [
    {
     "data": {
      "text/plain": [
       "(52414,)"
      ]
     },
     "execution_count": 23,
     "metadata": {},
     "output_type": "execute_result"
    }
   ],
   "source": [
    "salario_anual= df['totalyearlycompensation'].dropna()\n",
    "salario_anual.shape"
   ]
  },
  {
   "cell_type": "code",
   "execution_count": 24,
   "metadata": {},
   "outputs": [],
   "source": [
    "# N > 5000 el valor de p no es preciso, por ello seleccionemos 45000 observaciones aleatoriamente\n",
    "salario_anual= salario_anual.sample(4500) "
   ]
  },
  {
   "cell_type": "code",
   "execution_count": 25,
   "metadata": {},
   "outputs": [
    {
     "name": "stdout",
     "output_type": "stream",
     "text": [
      "stat=0.979, p=0.000\n"
     ]
    }
   ],
   "source": [
    "stat, p = shapiro(salario_anual)\n",
    "print(f'stat={stat:.3f}, p={p:.3f}')"
   ]
  },
  {
   "cell_type": "code",
   "execution_count": 26,
   "metadata": {},
   "outputs": [
    {
     "name": "stdout",
     "output_type": "stream",
     "text": [
      "Se rechaza la H0. El salario anual NO tiene una distribucion Normal\n"
     ]
    }
   ],
   "source": [
    "if p > 0.05:\n",
    "\tprint('Se acepta la H0. El salario anual tiene una distribucion Normal.')\n",
    "else:\n",
    "\tprint('Se rechaza la H0. El salario anual NO tiene una distribucion Normal')"
   ]
  },
  {
   "cell_type": "code",
   "execution_count": 27,
   "metadata": {},
   "outputs": [
    {
     "name": "stderr",
     "output_type": "stream",
     "text": [
      "C:\\Users\\Lina\\Documents\\ProyectAnalytics\\Landaenv\\lib\\site-packages\\seaborn\\distributions.py:2619: FutureWarning: `distplot` is a deprecated function and will be removed in a future version. Please adapt your code to use either `displot` (a figure-level function with similar flexibility) or `histplot` (an axes-level function for histograms).\n",
      "  warnings.warn(msg, FutureWarning)\n"
     ]
    },
    {
     "data": {
      "text/plain": [
       "<AxesSubplot:xlabel='totalyearlycompensation', ylabel='Density'>"
      ]
     },
     "execution_count": 27,
     "metadata": {},
     "output_type": "execute_result"
    },
    {
     "data": {
      "image/png": "[encoded data removed]",
      "text/plain": [
       "<Figure size 432x288 with 1 Axes>"
      ]
     },
     "metadata": {
      "needs_background": "light"
     },
     "output_type": "display_data"
    }
   ],
   "source": [
    "sns.distplot(df['totalyearlycompensation'])"
   ]
  },
  {
   "cell_type": "code",
   "execution_count": 28,
   "metadata": {},
   "outputs": [
    {
     "data": {
      "text/plain": [
       "184130.9670317091"
      ]
     },
     "execution_count": 28,
     "metadata": {},
     "output_type": "execute_result"
    }
   ],
   "source": [
    "df['totalyearlycompensation'].mean()"
   ]
  },
  {
   "cell_type": "markdown",
   "metadata": {},
   "source": [
    "Se concluye entonces que el salario anual de todos los profesionales en Data Science no siguen una distribución normal. Por lo tanto, el salario anual de la mayoría de los profesionales en Data Science no estará cerca del salario anual medio de 184130.97 dólares. Un número similar de profesionales en Data Science no ganaran un poco más y un poco menos que 184130.97 dólares. Muchos profesionales ganaran mucho más o mucho menos."
   ]
  },
  {
   "cell_type": "markdown",
   "metadata": {},
   "source": [
    "Chi-Squared Test"
   ]
  },
  {
   "cell_type": "markdown",
   "metadata": {},
   "source": [
    "Este test te permite determinar si es probable que dos variables categóricas están relacionadas o son independientes entre sí. Para que este test sea válido se necesita cumplir con 2 supuestos. \n",
    "1) Las observaciones utilizadas para calcular la tabla de contingencia son independientes \n",
    "2) Cada valor en la tabla de contingencia debe ser mayor a 25."
   ]
  },
  {
   "cell_type": "markdown",
   "metadata": {},
   "source": [
    "Prueba de Hipotesis\n",
    "\n",
    "H0: Las dos muestras son independientes. Se rechaza si p < 0.05\n",
    "H1: Existe dependencia entre las muestras. Se rechaza si p > 0.05"
   ]
  },
  {
   "cell_type": "code",
   "execution_count": 29,
   "metadata": {},
   "outputs": [],
   "source": [
    "from scipy.stats import chi2_contingency"
   ]
  },
  {
   "cell_type": "code",
   "execution_count": 30,
   "metadata": {},
   "outputs": [
    {
     "data": {
      "text/html": [
       "<div>\n",
       "<style scoped>\n",
       "    .dataframe tbody tr th:only-of-type {\n",
       "        vertical-align: middle;\n",
       "    }\n",
       "\n",
       "    .dataframe tbody tr th {\n",
       "        vertical-align: top;\n",
       "    }\n",
       "\n",
       "    .dataframe thead th {\n",
       "        text-align: right;\n",
       "    }\n",
       "</style>\n",
       "<table border=\"1\" class=\"dataframe\">\n",
       "  <thead>\n",
       "    <tr style=\"text-align: right;\">\n",
       "      <th>Education</th>\n",
       "      <th>Bachelor's Degree</th>\n",
       "      <th>Highschool</th>\n",
       "      <th>Master's Degree</th>\n",
       "      <th>No especificado</th>\n",
       "      <th>PhD</th>\n",
       "      <th>Some College</th>\n",
       "    </tr>\n",
       "    <tr>\n",
       "      <th>gender</th>\n",
       "      <th></th>\n",
       "      <th></th>\n",
       "      <th></th>\n",
       "      <th></th>\n",
       "      <th></th>\n",
       "      <th></th>\n",
       "    </tr>\n",
       "  </thead>\n",
       "  <tbody>\n",
       "    <tr>\n",
       "      <th>Female</th>\n",
       "      <td>1967</td>\n",
       "      <td>10</td>\n",
       "      <td>2192</td>\n",
       "      <td>1872</td>\n",
       "      <td>167</td>\n",
       "      <td>34</td>\n",
       "    </tr>\n",
       "    <tr>\n",
       "      <th>Male</th>\n",
       "      <td>8129</td>\n",
       "      <td>239</td>\n",
       "      <td>9389</td>\n",
       "      <td>10858</td>\n",
       "      <td>900</td>\n",
       "      <td>239</td>\n",
       "    </tr>\n",
       "    <tr>\n",
       "      <th>No especificado</th>\n",
       "      <td>623</td>\n",
       "      <td>9</td>\n",
       "      <td>1330</td>\n",
       "      <td>13931</td>\n",
       "      <td>191</td>\n",
       "      <td>7</td>\n",
       "    </tr>\n",
       "    <tr>\n",
       "      <th>Other</th>\n",
       "      <td>59</td>\n",
       "      <td>8</td>\n",
       "      <td>65</td>\n",
       "      <td>188</td>\n",
       "      <td>6</td>\n",
       "      <td>1</td>\n",
       "    </tr>\n",
       "  </tbody>\n",
       "</table>\n",
       "</div>"
      ],
      "text/plain": [
       "Education        Bachelor's Degree  Highschool  Master's Degree  \\\n",
       "gender                                                            \n",
       "Female                        1967          10             2192   \n",
       "Male                          8129         239             9389   \n",
       "No especificado                623           9             1330   \n",
       "Other                           59           8               65   \n",
       "\n",
       "Education        No especificado  PhD  Some College  \n",
       "gender                                               \n",
       "Female                      1872  167            34  \n",
       "Male                       10858  900           239  \n",
       "No especificado            13931  191             7  \n",
       "Other                        188    6             1  "
      ]
     },
     "execution_count": 30,
     "metadata": {},
     "output_type": "execute_result"
    }
   ],
   "source": [
    "contingency_table = pd.crosstab(df['gender'], df['Education'])\n",
    "contingency_table"
   ]
  },
  {
   "cell_type": "code",
   "execution_count": 31,
   "metadata": {},
   "outputs": [
    {
     "name": "stdout",
     "output_type": "stream",
     "text": [
      "stat=11957.536, p=0.000\n"
     ]
    }
   ],
   "source": [
    "stat, p, dof, expected = chi2_contingency(contingency_table)\n",
    "print(f'stat={stat:.3f}, p={p:.3f}')"
   ]
  },
  {
   "cell_type": "code",
   "execution_count": 32,
   "metadata": {},
   "outputs": [
    {
     "name": "stdout",
     "output_type": "stream",
     "text": [
      "Se rechaza la H0. Existe dependencia entre el genero y la educacion.\n"
     ]
    }
   ],
   "source": [
    "if p > 0.05:\n",
    "\tprint('Se acepta la H0. El genero y la educacion son independientes.')\n",
    "else:\n",
    "\tprint('Se rechaza la H0. Existe dependencia entre el genero y la educacion.')"
   ]
  },
  {
   "cell_type": "markdown",
   "metadata": {},
   "source": [
    "Se concluye que el género y la educación son dos variables dependientes entre si ósea que el nivel de educación va a depender del género de la persona (hombre o mujer)."
   ]
  }
 ],
 "metadata": {
  "interpreter": {
   "hash": "d764e1139065a2e961f617182d28d283391740f02facd421bb7aafd7ada692d3"
  },
  "kernelspec": {
   "display_name": "Python 3.10.2 ('Landaenv': venv)",
   "language": "python",
   "name": "python3"
  },
  "language_info": {
   "codemirror_mode": {
    "name": "ipython",
    "version": 3
   },
   "file_extension": ".py",
   "mimetype": "text/x-python",
   "name": "python",
   "nbconvert_exporter": "python",
   "pygments_lexer": "ipython3",
   "version": "3.10.2"
  },
  "orig_nbformat": 4
 },
 "nbformat": 4,
 "nbformat_minor": 2
}
